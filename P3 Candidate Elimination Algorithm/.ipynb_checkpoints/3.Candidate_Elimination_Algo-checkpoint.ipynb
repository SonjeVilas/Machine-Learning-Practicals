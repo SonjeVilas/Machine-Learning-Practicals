{
 "cells": [
  {
   "cell_type": "markdown",
   "metadata": {},
   "source": [
    "# Practical = 3  (Candidate Elimination)\n",
    "## For a given set of training data examples stored in a .CSV file, implement and demonstrate the Candidate-Elimination algorithm to output a description of the set of all hypotheses consistent with the training examples"
   ]
  },
  {
   "cell_type": "markdown",
   "metadata": {},
   "source": [
    "#### Candidate Elimination method\n",
    "It is method use to generate hypothesis from given data where it use both positive outcomes and negative output to build hypothesis.\n"
   ]
  },
  {
   "cell_type": "code",
   "execution_count": 1,
   "metadata": {},
   "outputs": [],
   "source": [
    "import pandas as pd\n",
    "import numpy as np"
   ]
  },
  {
   "cell_type": "code",
   "execution_count": 2,
   "metadata": {},
   "outputs": [
    {
     "data": {
      "text/html": [
       "<div>\n",
       "<style scoped>\n",
       "    .dataframe tbody tr th:only-of-type {\n",
       "        vertical-align: middle;\n",
       "    }\n",
       "\n",
       "    .dataframe tbody tr th {\n",
       "        vertical-align: top;\n",
       "    }\n",
       "\n",
       "    .dataframe thead th {\n",
       "        text-align: right;\n",
       "    }\n",
       "</style>\n",
       "<table border=\"1\" class=\"dataframe\">\n",
       "  <thead>\n",
       "    <tr style=\"text-align: right;\">\n",
       "      <th></th>\n",
       "      <th>time</th>\n",
       "      <th>whether</th>\n",
       "      <th>temprature</th>\n",
       "      <th>company</th>\n",
       "      <th>humidity</th>\n",
       "      <th>wind</th>\n",
       "      <th>goes</th>\n",
       "    </tr>\n",
       "  </thead>\n",
       "  <tbody>\n",
       "    <tr>\n",
       "      <th>0</th>\n",
       "      <td>morning</td>\n",
       "      <td>sunny</td>\n",
       "      <td>warn</td>\n",
       "      <td>yes</td>\n",
       "      <td>mild</td>\n",
       "      <td>strong</td>\n",
       "      <td>yes</td>\n",
       "    </tr>\n",
       "    <tr>\n",
       "      <th>1</th>\n",
       "      <td>evening</td>\n",
       "      <td>rainy</td>\n",
       "      <td>cold</td>\n",
       "      <td>no</td>\n",
       "      <td>mild</td>\n",
       "      <td>normal</td>\n",
       "      <td>no</td>\n",
       "    </tr>\n",
       "    <tr>\n",
       "      <th>2</th>\n",
       "      <td>morning</td>\n",
       "      <td>sunny</td>\n",
       "      <td>modrate</td>\n",
       "      <td>yes</td>\n",
       "      <td>normal</td>\n",
       "      <td>normal</td>\n",
       "      <td>yes</td>\n",
       "    </tr>\n",
       "    <tr>\n",
       "      <th>3</th>\n",
       "      <td>evening</td>\n",
       "      <td>sunny</td>\n",
       "      <td>cold</td>\n",
       "      <td>yes</td>\n",
       "      <td>high</td>\n",
       "      <td>normal</td>\n",
       "      <td>yes</td>\n",
       "    </tr>\n",
       "    <tr>\n",
       "      <th>4</th>\n",
       "      <td>evening</td>\n",
       "      <td>sunny</td>\n",
       "      <td>cold</td>\n",
       "      <td>yes</td>\n",
       "      <td>high</td>\n",
       "      <td>strong</td>\n",
       "      <td>yes</td>\n",
       "    </tr>\n",
       "    <tr>\n",
       "      <th>5</th>\n",
       "      <td>evening</td>\n",
       "      <td>rainy</td>\n",
       "      <td>cold</td>\n",
       "      <td>no</td>\n",
       "      <td>normal</td>\n",
       "      <td>normal</td>\n",
       "      <td>no</td>\n",
       "    </tr>\n",
       "  </tbody>\n",
       "</table>\n",
       "</div>"
      ],
      "text/plain": [
       "      time whether temprature company humidity    wind goes\n",
       "0  morning   sunny       warn     yes     mild  strong  yes\n",
       "1  evening   rainy       cold      no     mild  normal   no\n",
       "2  morning   sunny    modrate     yes   normal  normal  yes\n",
       "3  evening   sunny       cold     yes     high  normal  yes\n",
       "4  evening   sunny       cold     yes     high  strong  yes\n",
       "5  evening   rainy       cold      no   normal  normal   no"
      ]
     },
     "execution_count": 2,
     "metadata": {},
     "output_type": "execute_result"
    }
   ],
   "source": [
    "data=pd.read_csv('./data.csv')\n",
    "data.dropna()"
   ]
  },
  {
   "cell_type": "code",
   "execution_count": 3,
   "metadata": {},
   "outputs": [],
   "source": [
    "def candidateElimination(data):\n",
    "    n=len(data.iloc[0])\n",
    "    specific_hypothesis=[\"$\" for i in range(n)]\n",
    "    general_hypothesis=[]\n",
    "    for i in range(n):\n",
    "        general_hypothesis.append([\"?\" for j in range(n)])\n",
    "    for i in range(len(data)):\n",
    "        current_row=list(data.iloc[i])\n",
    "        if(current_row[-1]==\"yes\"):\n",
    "            if(specific_hypothesis[0]==\"$\"):\n",
    "                specific_hypothesis=current_row\n",
    "            else:\n",
    "                for j in range(n):\n",
    "                    if(specific_hypothesis[j]!=current_row[j]):\n",
    "                        specific_hypothesis[j]=\"?\"\n",
    "        else:\n",
    "            for j in range(n):\n",
    "                if(current_row[j]==specific_hypothesis[j] or specific_hypothesis[j]==\"?\"):\n",
    "                    general_hypothesis[j][j]=\"?\"\n",
    "                else:\n",
    "                    general_hypothesis[j][j]=specific_hypothesis[j]\n",
    "    return specific_hypothesis[:-1],general_hypothesis[:-1]\n"
   ]
  },
  {
   "cell_type": "code",
   "execution_count": 4,
   "metadata": {},
   "outputs": [
    {
     "data": {
      "text/plain": [
       "(['?', 'sunny', '?', 'yes', '?', '?'],\n",
       " [['?', '?', '?', '?', '?', '?', '?'],\n",
       "  ['?', 'sunny', '?', '?', '?', '?', '?'],\n",
       "  ['?', '?', '?', '?', '?', '?', '?'],\n",
       "  ['?', '?', '?', 'yes', '?', '?', '?'],\n",
       "  ['?', '?', '?', '?', '?', '?', '?'],\n",
       "  ['?', '?', '?', '?', '?', '?', '?']])"
      ]
     },
     "execution_count": 4,
     "metadata": {},
     "output_type": "execute_result"
    }
   ],
   "source": [
    "H=candidateElimination(data)\n",
    "H\n"
   ]
  }
 ],
 "metadata": {
  "kernelspec": {
   "display_name": "Python 3 (ipykernel)",
   "language": "python",
   "name": "python3"
  },
  "language_info": {
   "codemirror_mode": {
    "name": "ipython",
    "version": 3
   },
   "file_extension": ".py",
   "mimetype": "text/x-python",
   "name": "python",
   "nbconvert_exporter": "python",
   "pygments_lexer": "ipython3",
   "version": "3.10.4"
  },
  "vscode": {
   "interpreter": {
    "hash": "fbe58ca63fe33f9eeae9e71d10368d2b4a57f2b1b395836210cc60d362c66949"
   }
  }
 },
 "nbformat": 4,
 "nbformat_minor": 2
}
